{
  "nbformat": 4,
  "nbformat_minor": 0,
  "metadata": {
    "colab": {
      "name": "Lin_alg_4.ipynb",
      "provenance": [],
      "collapsed_sections": []
    },
    "kernelspec": {
      "name": "python3",
      "display_name": "Python 3"
    }
  },
  "cells": [
    {
      "cell_type": "markdown",
      "metadata": {
        "id": "SXootQgo82hV",
        "colab_type": "text"
      },
      "source": [
        "# Решение заданий к уроку 4"
      ]
    },
    {
      "cell_type": "markdown",
      "metadata": {
        "id": "b0DrbG9GPGx0",
        "colab_type": "text"
      },
      "source": [
        "## Часть 1"
      ]
    },
    {
      "cell_type": "markdown",
      "metadata": {
        "id": "FGpiEF3V8zgI",
        "colab_type": "text"
      },
      "source": [
        "__1.__ Решить систему уравнений методом Гаусса:\n",
        "\n",
        "$$\\begin{cases}\n",
        "x_{1}+x_{2}-x_{3}-2x_{4}=0, \\\\\n",
        "2x_{1}+x_{2}-x_{3}+x_{4}=-2, \\\\\n",
        "x_{1}+x_{2}-3x_{3}+x_{4}=4.\n",
        "\\end{cases}$$\n",
        "\n"
      ]
    },
    {
      "cell_type": "markdown",
      "metadata": {
        "id": "JzXQLzxD9QVs",
        "colab_type": "text"
      },
      "source": [
        "### Решение\n",
        "\n",
        "Перепишем СЛАУ в виде дополненной матрицы\n",
        "\n",
        "$$\\tilde{A}=\\begin{pmatrix}\n",
        "\\left.\\begin{matrix}\n",
        "1 & 1 & -1 & -2\\\\ \n",
        "2 & 1 & -1 & 1\\\\ \n",
        "1 & 1 & -3 & 1\n",
        "\\end{matrix}\\right|\n",
        "\\begin{matrix}\n",
        "0\\\\ \n",
        "-2\\\\\n",
        "4\n",
        "\\end{matrix}\n",
        "\\end{pmatrix}$$\n",
        "\n",
        "Отнимем от второйстроки первую, умноженную на 2, а от третьей строки отнимем просто первую строку и получим:\n",
        "$$\\tilde{A}=\\begin{pmatrix}\n",
        "\\left.\\begin{matrix}\n",
        "1 & 1 & -1 & -2\\\\ \n",
        "0 & -1 & 1 & 5\\\\ \n",
        "0 & 0 & -2 & 3\n",
        "\\end{matrix}\\right|\n",
        "\\begin{matrix}\n",
        "0\\\\ \n",
        "-2\\\\\n",
        "4\n",
        "\\end{matrix}\n",
        "\\end{pmatrix}$$\n",
        "\n",
        "Получается что СЛАУ у нас переопределенная система, так как число уравнение меньше чем неизвестных.\n",
        "\n",
        "Выразим $x_4 = 2t$, тогда \n",
        "\n",
        "$-2 x_3 + 6 t = 4 \\,\\,\\ \\to \\,\\,\\, x_3 = 3t-2$\n",
        "\n",
        "$-x_2 + 3t -2 + 10t = -2 \\,\\,\\, \\to \\,\\,\\, x_2 = 13t$\n",
        "\n",
        "$x_1 + 13t - 3t +2 - 4 t = 0\\,\\,\\, \\to \\,\\,\\, x_1 = -6t - 2$\n",
        "\n",
        "Решение:\n",
        "\n",
        "$$ X = \\begin{pmatrix}\n",
        "-6t-2\\\\ \n",
        "13t\\\\\n",
        "3t-2\\\\\n",
        "2t\n",
        "\\end{pmatrix}$$\n",
        "\n",
        "\n"
      ]
    },
    {
      "cell_type": "code",
      "metadata": {
        "id": "wRGF4y51CerC",
        "colab_type": "code",
        "colab": {
          "base_uri": "https://localhost:8080/",
          "height": 68
        },
        "outputId": "7884bbfa-9e07-4f46-c576-0a7cc3816f03"
      },
      "source": [
        "# проверим\n",
        "import numpy as np\n",
        "A = np.array([\n",
        "              [1,1,-1,-2],\n",
        "              [2,1,-1,1],\n",
        "              [1,1,-3,1]\n",
        "            ])\n",
        "t = 1\n",
        "X = np.array([\n",
        "              [-6*t - 2],\n",
        "              [13*t],\n",
        "              [3*t - 2],\n",
        "              [2*t]\n",
        "            ])\n",
        "\n",
        "\n",
        "A.dot(X)"
      ],
      "execution_count": 61,
      "outputs": [
        {
          "output_type": "execute_result",
          "data": {
            "text/plain": [
              "array([[ 0],\n",
              "       [-2],\n",
              "       [ 4]])"
            ]
          },
          "metadata": {
            "tags": []
          },
          "execution_count": 61
        }
      ]
    },
    {
      "cell_type": "markdown",
      "metadata": {
        "id": "XnzSEBAp9Ivc",
        "colab_type": "text"
      },
      "source": [
        "__2.__ Проверить на совместность и выяснить, сколько решений будет иметь система линейных уравнений:\n",
        "\n",
        "   а) $\\begin{cases}\n",
        "3x_{1}-x_{2}+x_{3}=4, \\\\\n",
        "2x_{1}-5x_{2}-3x_{3}=-17, \\\\\n",
        "x_{1}+x_{2}-x_{3}=0;\n",
        "\\end{cases}$\n",
        "    \n",
        "   б) $\\begin{cases}\n",
        "2x_{1}-4x_{2}+6x_{3}=1, \\\\\n",
        "x_{1}-2x_{2}+3x_{3}=-2, \\\\\n",
        "3x_{1}-6x_{2}+9x_{3}=5;\n",
        "\\end{cases}$\n",
        "    \n",
        "   в) $\\begin{cases}\n",
        "x_{1}+2x_{2}+5x_{3}=4, \\\\\n",
        "3x_{1}+x_{2}-8x_{3}=-2. \n",
        "\\end{cases}$\n",
        "\n",
        "\n"
      ]
    },
    {
      "cell_type": "markdown",
      "metadata": {
        "id": "xcCfwVKDJL9I",
        "colab_type": "text"
      },
      "source": [
        "### Решение\n",
        "\n",
        "__а)__\n",
        "\n",
        "У нас число неизвестных равно количеству уравнений.\n",
        "Запишем матрицу коэффициентов:\n",
        "\n",
        "$$A = \\begin{pmatrix}\n",
        "3 & -1 & 1\\\\\n",
        "2 & -5 & -3\\\\\n",
        "1 & 1 & -1\n",
        "\\end{pmatrix}$$\n",
        "\n",
        "Ее определитель  $det = 15+3+2-(-5) -(-9) -2 = 33 > 0$, следовательно СЛАУ совместна и имеет единственное решение\n",
        "\n",
        "__б)__\n",
        "\n",
        "У нас число неизвестных равно количеству уравнений, \n",
        "$$\\tilde{A}=\\begin{pmatrix}\n",
        "\\left.\\begin{matrix}\n",
        "2 & -4 & 6 \\\\ \n",
        "1 & -2 & 3\\\\ \n",
        "3 & -6 & 9\n",
        "\\end{matrix}\\right|\n",
        "\\begin{matrix}\n",
        "1\\\\ \n",
        "-2\\\\\n",
        "5\n",
        "\\end{matrix}\n",
        "\\end{pmatrix}$$\n",
        "\n",
        "доумножим первую строку на 3, вторую на 6, а третью на 2:\n",
        "\n",
        "$$\\tilde{A}=\\begin{pmatrix}\n",
        "\\left.\\begin{matrix}\n",
        "6 & -12 & 18 \\\\ \n",
        "6 & -12 & 18\\\\ \n",
        "6 & -12 & 18\n",
        "\\end{matrix}\\right|\n",
        "\\begin{matrix}\n",
        "3\\\\ \n",
        "-12\\\\\n",
        "10\n",
        "\\end{matrix}\n",
        "\\end{pmatrix}$$\n",
        "\n",
        "Видим что при одинаковых коэффициентах слева у нас получается разная правая часть, следовательно система несовместа\n",
        "\n",
        "\n",
        "__в)__\n",
        "\n",
        "Количество уравнений меньше количества неизвестных, кроме того вектора коэффициентов независимы ($\\begin{pmatrix} 1\\\\ 3 \\end{pmatrix},\\begin{pmatrix} 2\\\\ 1 \\end{pmatrix}, \\begin{pmatrix} 5\\\\ -8 \\end{pmatrix}$), следовательно система совместна и имеет бесконечное число решений"
      ]
    },
    {
      "cell_type": "markdown",
      "metadata": {
        "id": "0eAM1KOs9K78",
        "colab_type": "text"
      },
      "source": [
        "__3.__ Проверить на совместность и выяснить, сколько решений будет иметь система линейных уравнений, заданная расширенной матрицей\n",
        "\n",
        "$$\\tilde{A}=\\begin{pmatrix}\n",
        "\\left.\\begin{matrix}\n",
        "1 & 3 & -2 & 4\\\\ \n",
        "0 & 5 & 0 & 1\\\\ \n",
        "0 & 0 & 3 & 0\\\\ \n",
        "0 & 0 & 0 & 2\n",
        "\\end{matrix}\\right|\n",
        "\\begin{matrix}\n",
        "3\\\\ \n",
        "2\\\\\n",
        "4\\\\\n",
        "1\n",
        "\\end{matrix}\n",
        "\\end{pmatrix}.$$\n",
        "\n"
      ]
    },
    {
      "cell_type": "markdown",
      "metadata": {
        "id": "x6W3rf6vN-oW",
        "colab_type": "text"
      },
      "source": [
        "### Решение\n",
        "\n",
        "Здесь $rank A = rank\\tilde{A} = n$, так как определитель $detA  = 1*5*3*2 = 30 >0$, \n",
        "\n",
        "следовательно, так как у нас 4 уравнения с 4 неизвестными, то система определена и имеет единственное решение."
      ]
    },
    {
      "cell_type": "markdown",
      "metadata": {
        "id": "QiSv3u1N9Ns6",
        "colab_type": "text"
      },
      "source": [
        "__4.__ Дана система линейных уравнений, заданная расширенной матрицей\n",
        "\n",
        "$$\\tilde{A}=\\begin{pmatrix}\n",
        "\\left.\\begin{matrix}\n",
        "1 & 2 & 3\\\\ \n",
        "4 & 5 & 6\\\\ \n",
        "7 & 8 & 9\n",
        "\\end{matrix}\\right|\n",
        "\\begin{matrix}\n",
        "a\\\\ \n",
        "b\\\\\n",
        "c\n",
        "\\end{matrix}\n",
        "\\end{pmatrix}.$$\n",
        "\n",
        "Найти соотношение между параметрами $a$, $b$ и $c$, при которых система является несовместной."
      ]
    },
    {
      "cell_type": "markdown",
      "metadata": {
        "id": "I8uUAuWlPL6X",
        "colab_type": "text"
      },
      "source": [
        "### Решение\n",
        "\n",
        "Определитель матрицы коэффициентов = 0, следовательно нам необходимо проверить соотношение коэффициентов $a,b,c$\n",
        "Воспользуемся методом Гаусса:\n",
        "\n",
        "$$\\tilde{A}=\\begin{pmatrix}\n",
        "\\left.\\begin{matrix}\n",
        "1 & 2 & 3\\\\ \n",
        "4 & 5 & 6\\\\ \n",
        "7 & 8 & 9\n",
        "\\end{matrix}\\right|\n",
        "\\begin{matrix}\n",
        "a\\\\ \n",
        "b\\\\\n",
        "c\n",
        "\\end{matrix}\n",
        "\\end{pmatrix} $$\n",
        "\n",
        "$$\\tilde{A}=\\begin{pmatrix}\n",
        "\\left.\\begin{matrix}\n",
        "1 & 2 & 3\\\\ \n",
        "0 & -3 & -6\\\\ \n",
        "0 & -6 & -12\n",
        "\\end{matrix}\\right|\n",
        "\\begin{matrix}\n",
        "a\\\\ \n",
        "b - 4a\\\\\n",
        "c - 7a\n",
        "\\end{matrix}\n",
        "\\end{pmatrix}$$\n",
        "\n",
        "$$\\tilde{A}=\\begin{pmatrix}\n",
        "\\left.\\begin{matrix}\n",
        "1 & 2 & 3\\\\ \n",
        "0 & -3 & -6\\\\ \n",
        "0 & 0 & 0\n",
        "\\end{matrix}\\right|\n",
        "\\begin{matrix}\n",
        "a\\\\ \n",
        "b - 4a\\\\\n",
        "c - 7a - 2(b-4a)\n",
        "\\end{matrix}\n",
        "\\end{pmatrix} = \\begin{pmatrix}\n",
        "\\left.\\begin{matrix}\n",
        "1 & 2 & 3\\\\ \n",
        "0 & -3 & -6\\\\ \n",
        "0 & 0 & 0\n",
        "\\end{matrix}\\right|\n",
        "\\begin{matrix}\n",
        "a\\\\ \n",
        "b - 4a\\\\\n",
        "c + a - 2b\n",
        "\\end{matrix}\n",
        "\\end{pmatrix}$$\n",
        "\n",
        "Следовательно, для того чтобы система была несовместна, необходимо чтобы:\n",
        "\n",
        "$$c+a-2b \\neq  0$$\n"
      ]
    },
    {
      "cell_type": "markdown",
      "metadata": {
        "id": "UBsdcXpARDbt",
        "colab_type": "text"
      },
      "source": [
        "## Часть 2"
      ]
    },
    {
      "cell_type": "markdown",
      "metadata": {
        "id": "lKFpwnw3RGMs",
        "colab_type": "text"
      },
      "source": [
        "__1.__ Решить систему уравнений методом Крамера:\n",
        "\n",
        "   а) $\\begin{cases}\n",
        "x_{1}-2x_{2}=1 \\\\\n",
        "3x_{1}-4x_{2}=7\n",
        "\\end{cases}$\n",
        "    \n",
        "   б) $\\begin{cases}\n",
        "2x_{1}-x_{2}+5x_{3}=10 \\\\\n",
        "x_{1}+x_{2}-3x_{3}=-2 \\\\\n",
        "2x_{1}+4x_{2}+x_{3}=1\n",
        "\\end{cases}$\n",
        "\n"
      ]
    },
    {
      "cell_type": "markdown",
      "metadata": {
        "id": "QqL0dNwf90Y6",
        "colab_type": "text"
      },
      "source": [
        "### Решение \n",
        "\n",
        "__a)__\n",
        "\n",
        "$x_{i}=\\frac{detA_{i}}{detA}$\n",
        "\n",
        "Найдем определитель матрицы коэффициентов:\n",
        "\n",
        "$detA=\\begin{vmatrix}\n",
        "1 &  -2\\\\ \n",
        "3 & -4 \n",
        "\\end{vmatrix} = -4+6 = 2 > 0$, следовательно система совместна\n",
        "\n",
        "$detA_1=\\begin{vmatrix}\n",
        "1 &  -2\\\\ \n",
        "7 & -4 \n",
        "\\end{vmatrix} = -4+14 = 10 $\n",
        "\n",
        "$detA_2=\\begin{vmatrix}\n",
        "1 &  1\\\\ \n",
        "3 & 7 \n",
        "\\end{vmatrix} = 7 -3  = 4$\n",
        "\n",
        "$x_{1} = \\frac{detA_{1}}{detA} = \\frac{10}{2}=5$\n",
        "\n",
        "$x_{2} = \\frac{detA_{2}}{detA} = \\frac{4}{2}=2$\n",
        "\n",
        "\n",
        "__б)__\n",
        "\n",
        "$detA=\\begin{vmatrix}\n",
        "2 & -1 & 5\\\\ \n",
        "1 & 1 & -3\\\\ \n",
        "2 & 4 & 1\n",
        "\\end{vmatrix}=\n",
        "2+6+20-10+24+1 = 43\\neq 0,$\n",
        "\n",
        "следовательно, система совместна.\n",
        "\n",
        "Найдем определители $detA_{1}$, $detA_{2}$, $detA_{3}$:\n",
        "\n",
        "$detA_{1}=\\begin{vmatrix}\n",
        "10 & -1 & 5\\\\ \n",
        "-2 & 1 & -3\\\\ \n",
        "1 & 4 & 1\n",
        "\\end{vmatrix}= 10+3-40-5+120-2 = 86,$\n",
        "\n",
        "$detA_{2}=\\begin{vmatrix}\n",
        "2 & 10 & 5\\\\ \n",
        "1 & -2 & -3\\\\ \n",
        "2 & 1 & 1\n",
        "\\end{vmatrix}= - 4 - 60 +5 +20+6-10 = -43\n",
        "$\n",
        "\n",
        "$detA_{3}=\\begin{vmatrix}\n",
        "2 & -1 & 10\\\\ \n",
        "1 & 1 & -2\\\\ \n",
        "2 & 4 & 1\n",
        "\\end{vmatrix}= 2+4+40-20+16+1 = 43 $\n",
        "\n",
        "Тогда:\n",
        "\n",
        "$x_{1} = \\frac{detA_{1}}{detA} = \\frac{86}{43}=2,$\n",
        "\n",
        "$x_{2} = \\frac{detA_{2}}{detA} = \\frac{-43}{43}=-1,$\n",
        "\n",
        "$x_{3} = \\frac{detA_{3}}{detA} = \\frac{43}{43}=1.$\n"
      ]
    },
    {
      "cell_type": "markdown",
      "metadata": {
        "id": "iSWEuoceRJM1",
        "colab_type": "text"
      },
      "source": [
        "__2*.__ Найти $L$-матрицу $LU$-разложения для матрицы коэффициентов:\n",
        "\n",
        "   а)$$\\begin{pmatrix}\n",
        "1 & 2 & 4 \\\\ \n",
        "2 & 9 & 12 \\\\ \n",
        "3 & 26 & 30\n",
        "\\end{pmatrix}$$\n",
        "    \n",
        "   б)$$\\begin{pmatrix}\n",
        "1 & 1 & 2 & 4\\\\ \n",
        "2 & 5 & 8 & 9\\\\ \n",
        "3 & 18 & 29 & 18\\\\\n",
        "4 & 22 & 53 & 33\n",
        "\\end{pmatrix}$$\n",
        "    \n"
      ]
    },
    {
      "cell_type": "markdown",
      "metadata": {
        "id": "rTe15cZCG7l3",
        "colab_type": "text"
      },
      "source": [
        "### Решение\n",
        "\n",
        "__а)__$$\\begin{pmatrix}\n",
        "1 & 2 & 4 \\\\ \n",
        "2 & 9 & 12 \\\\ \n",
        "3 & 26 & 30\n",
        "\\end{pmatrix}$$\n",
        "\n",
        "\n",
        "\n",
        "Домножим первую строку на $2$ и вычтем ее из второго уравнения. При этом запишем в матрицу $L$ на место элемента $l_{21}$ значение $2$. \n",
        "\n",
        "Домножим первую строку на $3$ и вычтем ее из третьего уравнения. При этом запишем в матрицу $L$ на место элемента $l_{31}$ значение $3$. \n",
        "\n",
        "Тогда:\n",
        "\n",
        "$$U` = \\begin{pmatrix}\n",
        "1 & 2 & 4 \\\\ \n",
        "0 & 5 & 4 \\\\ \n",
        "0 & 20 & 18\n",
        "\\end{pmatrix},$$\n",
        "\n",
        "а матрица $L$ —\n",
        "\n",
        "$$L = \\begin{pmatrix}\n",
        "1 & 0 & 0 \\\\ \n",
        "2 & 1 & 0 \\\\ \n",
        "3 & l_{32} & 1\n",
        "\\end{pmatrix}.$$\n",
        "\n",
        "Домножим вторую строку на $4$ и вычтем ее из третьего уравнения. При этом запишем в матрицу $L$ на место элемента $l_{32}$ значение $4$.\n",
        "\n",
        "Тогда:\n",
        "\n",
        "$$U = \\begin{pmatrix}\n",
        "1 & 2 & 4 \\\\ \n",
        "0 & 5 & 4 \\\\ \n",
        "0 & 0 & 2\n",
        "\\end{pmatrix},$$\n",
        "\n",
        "а матрица $L$ —\n",
        "\n",
        "$$L = \\begin{pmatrix}\n",
        "1 & 0 & 0 \\\\ \n",
        "2 & 1 & 0 \\\\ \n",
        "3 & 4 & 1\n",
        "\\end{pmatrix}.$$\n"
      ]
    },
    {
      "cell_type": "code",
      "metadata": {
        "id": "TXLZlpmMFuUo",
        "colab_type": "code",
        "colab": {
          "base_uri": "https://localhost:8080/",
          "height": 68
        },
        "outputId": "20264841-13e1-44ed-9e5c-f5edc3afd3c0"
      },
      "source": [
        "# Проверим\n",
        "mL = np.array([\n",
        "              [1,0,0],\n",
        "              [2,1,0],\n",
        "              [3,4,1]\n",
        "            ])\n",
        "mU = np.array([\n",
        "              [1,2,4],\n",
        "              [0,5,4],\n",
        "              [0,0,2]\n",
        "            ])\n",
        "mL.dot(mU)"
      ],
      "execution_count": 62,
      "outputs": [
        {
          "output_type": "execute_result",
          "data": {
            "text/plain": [
              "array([[ 1,  2,  4],\n",
              "       [ 2,  9, 12],\n",
              "       [ 3, 26, 30]])"
            ]
          },
          "metadata": {
            "tags": []
          },
          "execution_count": 62
        }
      ]
    },
    {
      "cell_type": "markdown",
      "metadata": {
        "id": "pxPeIaiaJDFE",
        "colab_type": "text"
      },
      "source": [
        "__б)__$$\n",
        "\\begin{pmatrix}\n",
        "1 & 1 & 2 & 4\\\\ \n",
        "2 & 5 & 8 & 9\\\\ \n",
        "3 & 18 & 29 & 18\\\\\n",
        "4 & 22 & 53 & 33\n",
        "\\end{pmatrix}$$\n",
        "\n",
        "\n",
        "\n",
        "Домножим первую строку на $2$ и вычтем ее из второго уравнения. $l_{21} = 2$. \n",
        "\n",
        "Домножим первую строку на $3$ и вычтем ее из второго уравнения. $l_{31} = 3$. \n",
        "\n",
        "Домножим первую строку на $4$ и вычтем ее из второго уравнения. $l_{41} = 4$. \n",
        "\n",
        "Тогда:\n",
        "\n",
        "$$U` = \\begin{pmatrix}\n",
        "1 & 1& 2 & 4 \\\\ \n",
        "0 & 3 & 4 & 1 \\\\ \n",
        "0 & 15 & 23 & 6 \\\\\n",
        "0 & 18 & 45 &  17\n",
        "\\end{pmatrix},$$\n",
        "\n",
        "а матрица $L$ —\n",
        "\n",
        "$$L = \\begin{pmatrix}\n",
        "1 & 0 & 0 & 0\\\\ \n",
        "2 & 1 & 0 & 0\\\\ \n",
        "3 & l_{32} & 1&0\\\\\n",
        "4 & l_{42} & l_{43} & 1\n",
        "\\end{pmatrix}.$$\n",
        "\n",
        "Далее аналогично:\n",
        "\n",
        "$l_{32} = 5$,\n",
        "\n",
        "$l_{42} = 6$,\n",
        "\n",
        "Тогда:\n",
        "\n",
        "$$U` = \\begin{pmatrix}\n",
        "1 & 1& 2 & 4 \\\\ \n",
        "0 & 3 & 4 & 1 \\\\ \n",
        "0 & 0 & 3 & 1 \\\\\n",
        "0 & 0 & 21 & 11\n",
        "\\end{pmatrix},$$\n",
        "\n",
        "а матрица $L$ —\n",
        "\n",
        "$$L = \\begin{pmatrix}\n",
        "1 & 0 & 0 & 0\\\\ \n",
        "2 & 1 & 0 & 0\\\\ \n",
        "3 & 5 & 1&0\\\\\n",
        "4 & 6 & l_{43} & 1\n",
        "\\end{pmatrix}.$$\n",
        "\n",
        "Далее:\n",
        "\n",
        "$l_{43} = 7$,\n",
        "\n",
        "Тогда:\n",
        "\n",
        "$$U = \\begin{pmatrix}\n",
        "1 & 1& 2 & 4 \\\\ \n",
        "0 & 3 & 4 & 1 \\\\ \n",
        "0 & 0 & 3 & 1 \\\\\n",
        "0 & 0 & 0 &  4\n",
        "\\end{pmatrix},$$\n",
        "\n",
        "а матрица $L$ —\n",
        "\n",
        "$$L = \\begin{pmatrix}\n",
        "1 & 0 & 0 & 0\\\\ \n",
        "2 & 1 & 0 & 0\\\\ \n",
        "3 & 5 & 1&0\\\\\n",
        "4 & 6 & 7 & 1\n",
        "\\end{pmatrix}.$$\n",
        "\n",
        "    "
      ]
    },
    {
      "cell_type": "code",
      "metadata": {
        "id": "YDAh1CgGMKmt",
        "colab_type": "code",
        "colab": {
          "base_uri": "https://localhost:8080/",
          "height": 85
        },
        "outputId": "7f4b577b-c5c8-4521-a449-f1ba2b4e692b"
      },
      "source": [
        "# Проверим\n",
        "mL2 = np.array([\n",
        "              [1,0,0,0],\n",
        "              [2,1,0,0],\n",
        "              [3,5,1,0],\n",
        "              [4,6,7,1]\n",
        "            ])\n",
        "mU2 = np.array([\n",
        "              [1,1,2,4],\n",
        "              [0,3,4,1],\n",
        "              [0,0,3,1],\n",
        "              [0,0,0,4]\n",
        "            ])\n",
        "mL2.dot(mU2)"
      ],
      "execution_count": 63,
      "outputs": [
        {
          "output_type": "execute_result",
          "data": {
            "text/plain": [
              "array([[ 1,  1,  2,  4],\n",
              "       [ 2,  5,  8,  9],\n",
              "       [ 3, 18, 29, 18],\n",
              "       [ 4, 22, 53, 33]])"
            ]
          },
          "metadata": {
            "tags": []
          },
          "execution_count": 63
        }
      ]
    },
    {
      "cell_type": "markdown",
      "metadata": {
        "id": "G4k420_YRLRQ",
        "colab_type": "text"
      },
      "source": [
        "__3*.__ Решить систему линейных уравнений методом $LU$-разложения\n",
        "\n",
        "$$\\begin{cases}\n",
        "2x_{1}+x_{2}+3x_{3}=1 \\\\\n",
        "11x_{1}+7x_{2}+5x_{3}=-6 \\\\\n",
        "9x_{1}+8x_{2}+4x_{3}=-5\n",
        "\\end{cases}$$\n",
        "\n"
      ]
    },
    {
      "cell_type": "markdown",
      "metadata": {
        "id": "2I_zVIzucsCQ",
        "colab_type": "text"
      },
      "source": [
        "# Решение\n",
        "\n",
        "$$ A = \\begin{pmatrix}\n",
        "2 & 1 & 3 \\\\ \n",
        "11 & 7 & 5 \\\\ \n",
        "9 & 8 & 4\n",
        "\\end{pmatrix}$$\n",
        "\n",
        "разложим матрицу на LU\n",
        "\n",
        "Тогда:\n",
        "\n",
        "$$U = \\begin{pmatrix}\n",
        "2 & 1 & 3 \\\\ \n",
        "0 & \\frac{3}{2} & -\\frac{23}{2} \\\\ \n",
        "0 & 0 & \\frac{52}{3}\n",
        "\\end{pmatrix},$$\n",
        "\n",
        "а матрица $L$ —\n",
        "\n",
        "$$L = \\begin{pmatrix}\n",
        "1 & 0 & 0 \\\\ \n",
        "\\frac{11}{2} & 1 & 0 \\\\ \n",
        "\\frac{9}{2} & \\frac{7}{3} & 1\n",
        "\\end{pmatrix}.$$\n",
        "\n",
        "\n",
        "$L\\cdot Y = b$\n",
        "\n",
        "$ \\begin{pmatrix}\n",
        "1 & 0 & 0 \\\\ \n",
        "\\frac{11}{2} & 1 & 0 \\\\ \n",
        "\\frac{9}{2} & \\frac{7}{3} & 1\n",
        "\\end{pmatrix}\\cdot \\begin{pmatrix}\n",
        "y_1 \\\\ \n",
        "y_2 \\\\ \n",
        "y_3\n",
        "\\end{pmatrix} =  \\begin{pmatrix}\n",
        "1 \\\\ \n",
        "-6 \\\\ \n",
        "-5\n",
        "\\end{pmatrix}$\n",
        "\n",
        "\n",
        "\n",
        "$$\\begin{cases}\n",
        "y_{1} =1 \\\\\n",
        "\\frac{11}{2}y_1+y_{2}=-6 \\\\\n",
        "\\frac{9}{2}y_{1}+\\frac{7}{3}y_{2}+y_{3}=-5\n",
        "\\end{cases}$$\n",
        "\n",
        "$y_1 = 1$\n",
        "\n",
        "$y_2 = -6 - \\frac{11}{2} = - \\frac{23}{2}$\n",
        "\n",
        "$y_3 = -5 - \\frac{9}{2} - \\frac{7}{3}\\cdot(-\\frac{23}{2}) = \\frac{52}{3}$\n",
        "\n",
        "$U\\cdot X = Y$\n",
        "\n",
        "$\\begin{pmatrix}\n",
        "2 & 1 & 3 \\\\ \n",
        "0 & \\frac{3}{2} & -\\frac{23}{2} \\\\ \n",
        "0 & 0 & \\frac{52}{3}\n",
        "\\end{pmatrix}\\cdot \\begin{pmatrix}\n",
        "x_1 \\\\ \n",
        "x_2 \\\\ \n",
        "x_3\n",
        "\\end{pmatrix} =  \\begin{pmatrix}\n",
        "1 \\\\ \n",
        "- \\frac{23}{2} \\\\ \n",
        "\\frac{52}{3}\n",
        "\\end{pmatrix}$\n",
        "\n",
        "отсюда \n",
        "\n",
        "$x_3 = 1$\n",
        "\n",
        "$x_2 = 0 $\n",
        "\n",
        "$x_1 = - 1$\n"
      ]
    },
    {
      "cell_type": "markdown",
      "metadata": {
        "id": "6lr9tQQwRM1C",
        "colab_type": "text"
      },
      "source": [
        "__4*.__ Решить систему линейных уравнений методом Холецкого\n",
        "\n",
        "$$\\begin{cases}\n",
        "81x_{1}-45x_{2}+45x_{3}=531 \\\\\n",
        "-45x_{1}+50x_{2}-15x_{3}=-460 \\\\\n",
        "45x_{1}-15x_{2}+38x_{3}=193\n",
        "\\end{cases}$$\n",
        "\n"
      ]
    },
    {
      "cell_type": "markdown",
      "metadata": {
        "id": "CBKjtD49o5ul",
        "colab_type": "text"
      },
      "source": [
        "# Решение\n",
        "\n",
        "\n",
        "$$ A = \\begin{pmatrix}\n",
        "81 & -45 & 45 \\\\ \n",
        "-45 & 50 & -15 \\\\ \n",
        "45 & -15 & 38\n",
        "\\end{pmatrix}$$\n",
        "\n",
        "\n",
        "Произведем разложение на $LL^{T}$:\n",
        "\n",
        "$$l_{11}=\\sqrt{a_{11}}=\\sqrt{81} = 9,$$\n",
        "$$l_{21}=\\frac{a_{21}}{l_{11}}=\\frac{-45}{9} = -5,$$\n",
        "$$l_{31}=\\frac{a_{31}}{l_{11}}=\\frac{45}{9} = 5,$$\n",
        "\n",
        "$$l_{22}=\\sqrt{a_{22}-l_{21}^{2}}=\\sqrt{50 - 25}= 5,$$\n",
        "$$l_{32}=\\frac{1}{l_{22}}\\left ( a_{32}-l_{21}l_{31} \\right)=\\frac{1}{5}\\left ( -15 +25 \\right )=2,$$\n",
        "\n",
        "$$l_{33}=\\sqrt{a_{33}-l_{31}^{2}-l_{32}^{2}}=\\sqrt{38-25 - 4}=3 $$\n",
        "\n",
        "То есть:\n",
        "\n",
        "$$L = \\begin{pmatrix}\n",
        "9 & 0 & 0 \\\\ \n",
        "-5 & 5 & 0 \\\\ \n",
        "5 & 2 & 3\n",
        "\\end{pmatrix},$$\n",
        "\n",
        "$$L^T = \\begin{pmatrix}\n",
        "9 & -5 & 5 \\\\ \n",
        "0 & 5 & 2 \\\\ \n",
        "0 & 0 & 3\n",
        "\\end{pmatrix}.$$\n",
        "\n",
        "отсюда \n",
        "\n",
        "$x_3 = -4$\n",
        "\n",
        "$x_2 = -5 $\n",
        "\n",
        "$x_1 = 6$\n"
      ]
    },
    {
      "cell_type": "code",
      "metadata": {
        "id": "3S3lXrsSsVX8",
        "colab_type": "code",
        "colab": {
          "base_uri": "https://localhost:8080/",
          "height": 68
        },
        "outputId": "da94a628-4399-4a82-dd4f-8ddf55a16032"
      },
      "source": [
        "# проверим\n",
        "R = np.array([\n",
        "              [9,0,0],\n",
        "              [-5,5,0],\n",
        "              [5,2,3]\n",
        "            ])\n",
        "mA = R.dot(R.T)\n",
        "mA"
      ],
      "execution_count": 64,
      "outputs": [
        {
          "output_type": "execute_result",
          "data": {
            "text/plain": [
              "array([[ 81, -45,  45],\n",
              "       [-45,  50, -15],\n",
              "       [ 45, -15,  38]])"
            ]
          },
          "metadata": {
            "tags": []
          },
          "execution_count": 64
        }
      ]
    },
    {
      "cell_type": "code",
      "metadata": {
        "id": "6bjEsd0Xti0g",
        "colab_type": "code",
        "colab": {
          "base_uri": "https://localhost:8080/",
          "height": 68
        },
        "outputId": "94a8450e-ca7b-4c5b-e67a-f1f9cac98607"
      },
      "source": [
        "x = np.array([\n",
        "              [6],\n",
        "              [-5],\n",
        "              [-4]\n",
        "])\n",
        "mA.dot(x)"
      ],
      "execution_count": 65,
      "outputs": [
        {
          "output_type": "execute_result",
          "data": {
            "text/plain": [
              "array([[ 531],\n",
              "       [-460],\n",
              "       [ 193]])"
            ]
          },
          "metadata": {
            "tags": []
          },
          "execution_count": 65
        }
      ]
    },
    {
      "cell_type": "markdown",
      "metadata": {
        "id": "H4r2w29tROZN",
        "colab_type": "text"
      },
      "source": [
        "__5*.__ Написать на Python программу с реализацией одного из изученных алгоритмов решения СЛАУ."
      ]
    },
    {
      "cell_type": "code",
      "metadata": {
        "id": "ZB6eTNU58yAO",
        "colab_type": "code",
        "colab": {}
      },
      "source": [
        "def LU (A):\n",
        "  L = np.zeros_like(A)\n",
        "  U = np.zeros_like(A)\n",
        "  n = A.shape[0]\n",
        "  for k in range(n):\n",
        "    L[k, k] = 1\n",
        "    U[k, k] = (A[k, k] - np.dot(L[k, :k], U[:k, k])) / L[k, k]\n",
        "    for j in range(k+1, n):\n",
        "      U[k, j] = (A[k, j] - np.dot(L[k, :k], U[:k, j])) / L[k, k]\n",
        "    for i in range(k+1, n):\n",
        "      L[i, k] = (A[i, k] - np.dot(L[i, :k], U[:k, k])) / U[k, k]\n",
        "  return L, U"
      ],
      "execution_count": 66,
      "outputs": []
    },
    {
      "cell_type": "code",
      "metadata": {
        "id": "_kYQDK6uPtt0",
        "colab_type": "code",
        "colab": {
          "base_uri": "https://localhost:8080/",
          "height": 255
        },
        "outputId": "c566e252-ffab-47be-9a84-60ef7ef62921"
      },
      "source": [
        "# проверим\n",
        "A = np.array([[ 1,  1,  2,  4],\n",
        "       [ 2,  5,  8,  9],\n",
        "       [ 3, 18, 29, 18],\n",
        "       [ 4, 22, 53, 33]])\n",
        "l,u = LU(A)\n",
        "print(l.dot(u),'\\n\\n', l,'\\n\\n',u)"
      ],
      "execution_count": 67,
      "outputs": [
        {
          "output_type": "stream",
          "text": [
            "[[ 1  1  2  4]\n",
            " [ 2  5  8  9]\n",
            " [ 3 18 29 18]\n",
            " [ 4 22 53 33]] \n",
            "\n",
            " [[1 0 0 0]\n",
            " [2 1 0 0]\n",
            " [3 5 1 0]\n",
            " [4 6 7 1]] \n",
            "\n",
            " [[1 1 2 4]\n",
            " [0 3 4 1]\n",
            " [0 0 3 1]\n",
            " [0 0 0 4]]\n"
          ],
          "name": "stdout"
        }
      ]
    },
    {
      "cell_type": "code",
      "metadata": {
        "id": "fMtht8BPSEtE",
        "colab_type": "code",
        "colab": {}
      },
      "source": [
        "def LU_solve(A,b):\n",
        "  L,U = LU(A)\n",
        "  n = A.shape[0]\n",
        "  Y = np.zeros_like(b,dtype = float)\n",
        "  X = np.zeros_like(b,dtype = float)\n",
        "  for k in range(n):\n",
        "    Y[k] = b[k]\n",
        "    for i in range(k):\n",
        "      Y[k] -= L[k,i]*Y[i]\n",
        "  # return Y\n",
        "  for k in range(n-1,-1,-1):\n",
        "    X[k] = Y[k]/U[k,k]\n",
        "    for i in range(n-1,k,-1):\n",
        "      X[k] -=  X[i]*U[k,i]/U[k,k]\n",
        "  return X\n",
        "\n",
        "\n"
      ],
      "execution_count": 68,
      "outputs": []
    },
    {
      "cell_type": "code",
      "metadata": {
        "id": "Enw0XGQxukWh",
        "colab_type": "code",
        "colab": {}
      },
      "source": [
        ""
      ],
      "execution_count": null,
      "outputs": []
    }
  ]
}